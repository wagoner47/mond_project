{
 "cells": [
  {
   "cell_type": "markdown",
   "metadata": {},
   "source": [
    "# Retriving $g_{obs}$"
   ]
  },
  {
   "cell_type": "markdown",
   "metadata": {},
   "source": [
    "## Setup Script"
   ]
  },
  {
   "cell_type": "code",
   "execution_count": 3,
   "metadata": {},
   "outputs": [
    {
     "name": "stderr",
     "output_type": "stream",
     "text": [
      "/home/mlschott343/anaconda3/lib/python3.6/site-packages/h5py/__init__.py:36: FutureWarning: Conversion of the second argument of issubdtype from `float` to `np.floating` is deprecated. In future, it will be treated as `np.float64 == np.dtype(float).type`.\n",
      "  from ._conv import register_converters as _register_converters\n"
     ]
    }
   ],
   "source": [
    "import mond_project as mp\n",
    "import numpy as np\n",
    "import matplotlib.pyplot as plt\n",
    "import os\n",
    "import pickle as pk\n",
    "import pandas as pd"
   ]
  },
  {
   "cell_type": "markdown",
   "metadata": {},
   "source": [
    "## Retrieval Code\n",
    "\n",
    "This code creates a directory called 'halo_saves' which is where it saves all of the data for each halo. This segment should only be run once to retrieve the data. Once it has been run and the files made, you shouldn't have to ever run it again."
   ]
  },
  {
   "cell_type": "code",
   "execution_count": null,
   "metadata": {},
   "outputs": [],
   "source": [
    "###################################################################################################\n",
    "# \n",
    "# This is setup code for the script. It makes sure that there is a folder for all of the halo files.\n",
    "# Run Once\n",
    "# \n",
    "###################################################################################################\n",
    "\n",
    "\n",
    "cwd = os.getcwd()                                            # Sets the working directory\n",
    "if os.path.exists(os.path.join(cwd,'halo_saves')):           # Checks for 'halo_saves' dir\n",
    "    break                                                     \n",
    "else:                                                        \n",
    "    os.mkdir(os.path.join(cwd,'halo_saves'))                 # If it doesn't exist, creates it\n",
    "    save_loc = os.path.join(cwd,'halo_saves')                # Sets the save location for\n",
    "                                                             #   mp.save_halos()\n",
    "    \n",
    "mp.save_halos('Illustris-1', save_loc, z=0, snapnum=0)       # Calls mp.save_halos() for redshift 0\n",
    "                                                             #   and only the first snapshot\n",
    "    "
   ]
  },
  {
   "cell_type": "markdown",
   "metadata": {},
   "source": [
    "## Extracting $g_{obs}$\n",
    "\n",
    "Here we loop through all radii up to a maximum (here set to 50 kpc) with a set bin size (here set to 1 kpc) and add those pandas.dataFrame elements to a list called 'gobs'. This list is then used to find average $g_{obs}$ for the given radius over all 100 galaxies."
   ]
  },
  {
   "cell_type": "code",
   "execution_count": 6,
   "metadata": {},
   "outputs": [
    {
     "name": "stdout",
     "output_type": "stream",
     "text": [
      "Done!                                         \n"
     ]
    }
   ],
   "source": [
    "###################################################################################################\n",
    "# \n",
    "# This chunk is very slow! This would not be good for a scale-up in object number!\n",
    "# \n",
    "###################################################################################################\n",
    "\n",
    "\n",
    "gobs = []                                                    # gobs is a list of pandas.DataFrame \n",
    "                                                             #   objects, each corresponding to a\n",
    "                                                             #   different radius (kpc). This is\n",
    "                                                             #   used for extracting the average\n",
    "                                                             #   g_obs. The average is calculated\n",
    "                                                             #   over all 100 objects at a given\n",
    "                                                             #   radius.\n",
    "                        \n",
    "init_r = 5                                                   # Initial Radius (kpc)\n",
    "final_r = 50                                                 # Final Radius (kpc)\n",
    "bin_size = 1                                                 # This sets the size of Delta_r (kpc)\n",
    "\n",
    "for radius in range(init_r, final_r, bin_size):              # Loops though all radii\n",
    "    \n",
    "                                                             # This saves each DataFrame element\n",
    "                                                             #   at radius 'radius' with bin size\n",
    "                                                             #   of 'bin_size' from all galaxies.\n",
    "    elem = mp.calc_gobs(radius, bin_size, os.path.join('halo_saves', 'subhalo_list.npz'))\n",
    "    \n",
    "    gobs.append(elem)                                        # Appends the element to 'gobs'\n",
    "    \n",
    "    print('Finished Radius '+str(radius)+' kpc', end = '\\r') # Counter output\n",
    "\n",
    "print('Done!                                         ')      # 'Done' Flag\n",
    "\n",
    "                                                             # 'gobs' now contains \n",
    "                                                             #   (final_r - init_r)/bin_size elems.\n",
    "                                                             #   each of which contain the DataFrame\n",
    "                                                             #   object for each galaxy at that\n",
    "                                                             #   radius.\n",
    "                    "
   ]
  },
  {
   "cell_type": "markdown",
   "metadata": {},
   "source": [
    "## Calculating Average $g_{obs}$\n",
    "\n",
    "Here we use 'gobs' to calculate the average $g_{obs}$ at each given radius with bin size 'bin_size'. This is then appended to a dictionary object that has entries of the form { 'radius' : 'average $g_{obs}$ }. It's these values that parameterize our function $g_{obs}(r)$."
   ]
  },
  {
   "cell_type": "code",
   "execution_count": 8,
   "metadata": {},
   "outputs": [],
   "source": [
    "id_list = list(gobs[0])                                      # Gets a list of galaxy IDs. These are\n",
    "                                                             #   not all continuous integers, as\n",
    "                                                             #   not every ID'ed object in\n",
    "                                                             #   Illustris-1 is a galaxy.\n",
    "            \n",
    "\n",
    "g_obs_r = {}                                                 # The 'radius:g_obs' dictionary\n",
    "\n",
    "for r in range(init_r, final_r, bin_size):                   # Iterating through radii\n",
    "    \n",
    "    galaxy_list = []                                         # 'galaxy_list' contains the values of\n",
    "                                                             #    g_obs for each galaxy at radius r\n",
    "        \n",
    "    for id in id_list:                                       # Iterating though each ID\n",
    "        galaxy_list.append(gobs[r-init_r].at[r,id])          # Adding the g_obs value of galaxy\n",
    "                                                             #   'id' to the list 'galaxy_list'\n",
    "        \n",
    "    g_obs_r[r] = galaxy_list                                 # Appending 'galaxy_list' to g_obs_r\n",
    "\n",
    "avg_gobs = {}                                                # Dictionary of average g_obs values\n",
    "                                                             #   for each radius. Radii are the\n",
    "                                                             #   keys and average g_obs are the\n",
    "                                                             #   values.\n",
    "            \n",
    "for r in range(init_r, final_r, bin_size):                   # Calculating average and adding it\n",
    "                                                             #   to the dictionary. There are \n",
    "                                                             #   occasionally 'nan' entries in the\n",
    "                                                             #   data, which is why the numpy\n",
    "                                                             #   functions are being used.\n",
    "    \n",
    "    avg_gobs[r] = np.nansum(g_obs_r[r])/(len(g_obs_r[r]) - np.count_nonzero(np.isnan(g_obs_r[r])))\n"
   ]
  },
  {
   "cell_type": "markdown",
   "metadata": {},
   "source": [
    "## Plotting $g_{obs}$ vs $r$\n",
    "\n",
    "We want to confirm that our curve takes the right form, so we'll do a quick plot to check it."
   ]
  },
  {
   "cell_type": "code",
   "execution_count": 15,
   "metadata": {},
   "outputs": [
    {
     "name": "stderr",
     "output_type": "stream",
     "text": [
      "/home/mlschott343/anaconda3/lib/python3.6/site-packages/matplotlib/cbook/deprecation.py:106: MatplotlibDeprecationWarning: Adding an axes using the same arguments as a previous axes currently reuses the earlier instance.  In a future version, a new instance will always be created and returned.  Meanwhile, this warning can be suppressed, and the future behavior ensured, by passing a unique label to each axes instance.\n",
      "  warnings.warn(message, mplDeprecation, stacklevel=1)\n"
     ]
    },
    {
     "data": {
      "image/png": "[encoded data removed]",
      "text/plain": [
       "<matplotlib.figure.Figure at 0x7f3e84273be0>"
      ]
     },
     "metadata": {},
     "output_type": "display_data"
    }
   ],
   "source": [
    "# conversion = (3.24078*10**-34)/(3.17098*10**-16)           # g_obs is currently km^2*s^-2*kpc^-1. \n",
    "                                                             #   This converts to kpc/s^2.\n",
    "    ## This Element not currrently used!\n",
    "\n",
    "x = range(init_r, final_r, bin_size)                         # Gets the range of radii for plotting\n",
    "y = [x for x in avg_gobs.values()]                           # Add '*conversion' to x to add \n",
    "                                                             #   conversion and store it as a list.\n",
    "\n",
    "font_size = 18                                               # Declare 'font_size' variable\n",
    "\n",
    "fig = plt.figure(1,figsize = (10,7))                         # All of the below is plotting. See\n",
    "plt.plot(x,y,'black')                                        #   matplotlib.pyplot documentation\n",
    "ax = plt.axes()                                              #   for additional details!\n",
    "ax.set_xlabel('Radius  (kpc)', fontsize = font_size)\n",
    "ax.set_ylabel('Avg $g_{obs}$  ($km^2/kpc \\ s^2$)', fontsize = font_size)\n",
    "ax.set_title('Average $g_{obs}$ vs Galactic Radius', fontsize = font_size)\n",
    "\n",
    "plt.savefig('avg_gobs_v_rad.png')                            # Saves the plot\n"
   ]
  },
  {
   "cell_type": "code",
   "execution_count": null,
   "metadata": {},
   "outputs": [],
   "source": []
  }
 ],
 "metadata": {
  "kernelspec": {
   "display_name": "Python 3",
   "language": "python",
   "name": "python3"
  },
  "language_info": {
   "codemirror_mode": {
    "name": "ipython",
    "version": 3
   },
   "file_extension": ".py",
   "mimetype": "text/x-python",
   "name": "python",
   "nbconvert_exporter": "python",
   "pygments_lexer": "ipython3",
   "version": "3.6.4"
  }
 },
 "nbformat": 4,
 "nbformat_minor": 2
}
